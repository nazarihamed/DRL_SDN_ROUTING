{
 "cells": [
  {
   "cell_type": "code",
   "execution_count": 1,
   "metadata": {},
   "outputs": [],
   "source": [
    "import json, ast"
   ]
  },
  {
   "cell_type": "code",
   "execution_count": 2,
   "metadata": {},
   "outputs": [],
   "source": [
    "file = '/home/csnetuofr/monitoring/DRL/32nodes/k_paths.json'\n",
    "with open(file,'r') as json_file:\n",
    "    k_shortest_paths = json.load(json_file)\n",
    "    k_shortest_paths = ast.literal_eval(json.dumps(k_shortest_paths))\n"
   ]
  },
  {
   "cell_type": "code",
   "execution_count": 3,
   "metadata": {},
   "outputs": [],
   "source": [
    "k_shortest_path={}\n",
    "for src in range(1,33):\n",
    "    k_shortest_path.setdefault(str(src),{})\n",
    "    for dst in range(1,33):\n",
    "        if src != dst:\n",
    "            k_shortest_path[str(src)][str(dst)]=k_shortest_paths[str(src)][str(dst)][0]"
   ]
  },
  {
   "cell_type": "code",
   "execution_count": 4,
   "metadata": {},
   "outputs": [],
   "source": [
    "with open('/home/csnetuofr/monitoring/DRL/32nodes/dr_path.json','w') as json_file:\n",
    "        json.dump(k_shortest_path, json_file, indent=2) "
   ]
  },
  {
   "cell_type": "code",
   "execution_count": 5,
   "metadata": {},
   "outputs": [],
   "source": [
    "a = {(1, 4):[1,2,4,5]}"
   ]
  },
  {
   "cell_type": "code",
   "execution_count": 8,
   "metadata": {},
   "outputs": [
    {
     "data": {
      "text/plain": [
       "[1, 2, 4, 5]"
      ]
     },
     "execution_count": 8,
     "metadata": {},
     "output_type": "execute_result"
    }
   ],
   "source": [
    "a[(1, 4)]"
   ]
  },
  {
   "cell_type": "code",
   "execution_count": 1,
   "metadata": {},
   "outputs": [],
   "source": [
    "import os, setting,csv"
   ]
  },
  {
   "cell_type": "code",
   "execution_count": 10,
   "metadata": {},
   "outputs": [],
   "source": [
    "file_net_info = setting.PATH_TO_FILES+\"/DRL/32nodes/net_info/net_info.csv\"\n",
    "os.makedirs(os.path.dirname(file_net_info), exist_ok=True)\n",
    "with open(file_net_info,'w') as csvfile:\n",
    "    \n",
    "    header_names = ['node1','node2','bwd','delay','pkloss']\n",
    "    file = csv.writer(csvfile, delimiter=',',quotechar='|', quoting=csv.QUOTE_MINIMAL)\n",
    "    links_in = []\n",
    "    file.writerow(header_names)"
   ]
  },
  {
   "cell_type": "code",
   "execution_count": 8,
   "metadata": {},
   "outputs": [
    {
     "data": {
      "text/plain": [
       "[b'node1', b'node2', b'bwd', b'delay', b'pkloss']"
      ]
     },
     "execution_count": 8,
     "metadata": {},
     "output_type": "execute_result"
    }
   ],
   "source": [
    "header_names = ['node1'.encode(),'node2'.encode(),'bwd'.encode(),'delay'.encode(),'pkloss'.encode()]\n",
    "\n",
    "header_names\n"
   ]
  }
 ],
 "metadata": {
  "kernelspec": {
   "display_name": "Python 3",
   "language": "python",
   "name": "python3"
  },
  "language_info": {
   "codemirror_mode": {
    "name": "ipython",
    "version": 3
   },
   "file_extension": ".py",
   "mimetype": "text/x-python",
   "name": "python",
   "nbconvert_exporter": "python",
   "pygments_lexer": "ipython3",
   "version": "3.8.10 (default, Nov 14 2022, 12:59:47) \n[GCC 9.4.0]"
  },
  "orig_nbformat": 4,
  "vscode": {
   "interpreter": {
    "hash": "31f2aee4e71d21fbe5cf8b01ff0e069b9275f58929596ceb00d14d90e3e16cd6"
   }
  }
 },
 "nbformat": 4,
 "nbformat_minor": 2
}
